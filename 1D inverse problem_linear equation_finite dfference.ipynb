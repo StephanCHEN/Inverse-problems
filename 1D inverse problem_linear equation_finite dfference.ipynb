{
 "cells": [
  {
   "cell_type": "code",
   "execution_count": 59,
   "metadata": {},
   "outputs": [],
   "source": [
    "import numpy as np\n",
    "import pandas as pd\n",
    "import matplotlib.pyplot as plt\n",
    "from matplotlib.animation import FuncAnimation\n",
    "import time"
   ]
  },
  {
   "cell_type": "markdown",
   "metadata": {},
   "source": [
    "$x \\in (0,1)$. The Cauchy problem is:\n",
    "$$\\frac{\\partial y}{\\partial x}=\\alpha (x) x+y$$\n",
    "$$y(0)=1$$\n",
    "The objective function to minimize is:\n",
    "$$J(y,\\alpha)=\\int_{0}^{1} |y-(x+1)e^{x}|^2 dx$$\n",
    "$\\alpha(x)$ is the spatial function to determine.\n",
    "\n",
    "$y$ is called solution, $f(x) = (x+1)e^{x}$ is called observation."
   ]
  },
  {
   "cell_type": "code",
   "execution_count": 60,
   "metadata": {},
   "outputs": [],
   "source": [
    "n = 100 ##number of intervals\n",
    "alpha = np.ones(n) ##initial values\n",
    "step = 0.01 ##step size for optimization"
   ]
  },
  {
   "cell_type": "markdown",
   "metadata": {},
   "source": [
    "The discretized equation can be written into a linear system:\n",
    "$$AY = B(\\alpha*X)+C,$$\n",
    "where $A$ and $B$ are $n\\times n$ matrices, $Y$ is the soloution vector, $X$ is the discretized definition domain, $C$ is a constant vector. * is the Hadamard product. \n",
    "\n",
    "$$\n",
    "A = \n",
    "\\left[{\\begin{array}{cc}\n",
    "1 & 0 & ...& 0\\\\\n",
    "-(n+1) & n & ...& 0\\\\\n",
    "0 & (-n+1) & n & ...\\\\\n",
    ". & . & ...& .\\\\\n",
    "0 & ... & -(n+1) & n\\\\\n",
    "\\end{array}}\\right],\n",
    "\\qquad\n",
    "B = \n",
    "\\left[{\\begin{array}{cc}\n",
    "0 & 0 & ...& 0\\\\\n",
    "1 & 0 & ...& 0\\\\\n",
    "0 & 1 & ...& 0\\\\\n",
    ". & . & ...& .\\\\\n",
    "0 & ... & 1 & 0\\\\\n",
    "\\end{array}}\\right],\n",
    "\\quad\n",
    "C = \n",
    "\\left[{\\begin{array}{cc}\n",
    "1\\\\\n",
    "0\\\\\n",
    "0\\\\\n",
    ".\\\\\n",
    "0 \\\\\n",
    "\\end{array}}\\right],\n",
    "\\quad$$"
   ]
  },
  {
   "cell_type": "code",
   "execution_count": 61,
   "metadata": {},
   "outputs": [],
   "source": [
    "#write the values of A, B, C as well as x\n",
    "B = np.zeros((n, n))\n",
    "for i in range(1, n):\n",
    "    B[i, i-1] = 1.0\n",
    "    \n",
    "A = -(n+1) * B + n * np.identity(n)\n",
    "A[0,0] = 1.0\n",
    "\n",
    "C = np.zeros(n)\n",
    "C[0] = 1.0\n",
    "\n",
    "x = np.asarray(range(n))/n"
   ]
  },
  {
   "cell_type": "code",
   "execution_count": 62,
   "metadata": {},
   "outputs": [],
   "source": [
    "def pde_solver(alpha):\n",
    "        \n",
    "    return np.linalg.solve(A, np.dot(B, alpha*x)+C)"
   ]
  },
  {
   "cell_type": "code",
   "execution_count": 63,
   "metadata": {},
   "outputs": [],
   "source": [
    "def J(Y, F):\n",
    "    h = (Y-F)**2\n",
    "    \n",
    "    return np.sum(h / n)"
   ]
  },
  {
   "cell_type": "code",
   "execution_count": 64,
   "metadata": {},
   "outputs": [],
   "source": [
    "def J_grad_Y(Y):\n",
    "    \n",
    "    return 2 * (Y - F) / n"
   ]
  },
  {
   "cell_type": "code",
   "execution_count": 65,
   "metadata": {},
   "outputs": [],
   "source": [
    "def J_grad_alpha(Y, alpha):\n",
    "    p = np.linalg.solve(A.T, J_grad_Y(Y))\n",
    "    \n",
    "    return np.dot(np.dot(B, np.diag(x)).T, p)"
   ]
  },
  {
   "cell_type": "code",
   "execution_count": 66,
   "metadata": {},
   "outputs": [],
   "source": [
    "F = (x + 1)*np.exp(x)\n",
    "    \n",
    "Y0 = Y = pde_solver(alpha)"
   ]
  },
  {
   "cell_type": "code",
   "execution_count": 82,
   "metadata": {},
   "outputs": [
    {
     "data": {
      "text/plain": [
       "<matplotlib.legend.Legend at 0x1d208291080>"
      ]
     },
     "execution_count": 82,
     "metadata": {},
     "output_type": "execute_result"
    },
    {
     "data": {
      "image/png": "[encoded data removed]",
      "text/plain": [
       "<Figure size 432x288 with 1 Axes>"
      ]
     },
     "metadata": {
      "needs_background": "light"
     },
     "output_type": "display_data"
    }
   ],
   "source": [
    "plt.subplot(1, 1, 1)\n",
    "plt.plot(x, Y, x, F)\n",
    "plt.xlabel('x')\n",
    "plt.ylabel('y')\n",
    "\n",
    "plt.gca().legend(('Solution','Observation'))"
   ]
  },
  {
   "cell_type": "code",
   "execution_count": 68,
   "metadata": {},
   "outputs": [
    {
     "ename": "KeyboardInterrupt",
     "evalue": "",
     "output_type": "error",
     "traceback": [
      "\u001b[1;31m---------------------------------------------------------------------------\u001b[0m",
      "\u001b[1;31mKeyboardInterrupt\u001b[0m                         Traceback (most recent call last)",
      "\u001b[1;32m<ipython-input-68-01900973ce27>\u001b[0m in \u001b[0;36m<module>\u001b[1;34m\u001b[0m\n\u001b[0;32m      9\u001b[0m     \u001b[0mloss\u001b[0m\u001b[1;33m.\u001b[0m\u001b[0mappend\u001b[0m\u001b[1;33m(\u001b[0m\u001b[0mErr\u001b[0m\u001b[1;33m)\u001b[0m\u001b[1;33m\u001b[0m\u001b[1;33m\u001b[0m\u001b[0m\n\u001b[0;32m     10\u001b[0m     \u001b[0miteration\u001b[0m \u001b[1;33m+=\u001b[0m \u001b[1;36m1\u001b[0m\u001b[1;33m\u001b[0m\u001b[1;33m\u001b[0m\u001b[0m\n\u001b[1;32m---> 11\u001b[1;33m     \u001b[0malpha1\u001b[0m \u001b[1;33m=\u001b[0m \u001b[0malpha\u001b[0m \u001b[1;33m-\u001b[0m \u001b[0mstep\u001b[0m \u001b[1;33m*\u001b[0m \u001b[0mJ_grad_alpha\u001b[0m\u001b[1;33m(\u001b[0m\u001b[0mY\u001b[0m\u001b[1;33m,\u001b[0m \u001b[0malpha\u001b[0m\u001b[1;33m)\u001b[0m\u001b[1;33m\u001b[0m\u001b[1;33m\u001b[0m\u001b[0m\n\u001b[0m\u001b[0;32m     12\u001b[0m     \u001b[0mY\u001b[0m \u001b[1;33m=\u001b[0m \u001b[0mpde_solver\u001b[0m\u001b[1;33m(\u001b[0m\u001b[0malpha1\u001b[0m\u001b[1;33m)\u001b[0m\u001b[1;33m\u001b[0m\u001b[1;33m\u001b[0m\u001b[0m\n\u001b[0;32m     13\u001b[0m     \u001b[0mY_list\u001b[0m\u001b[1;33m.\u001b[0m\u001b[0mappend\u001b[0m\u001b[1;33m(\u001b[0m\u001b[0mY\u001b[0m\u001b[1;33m)\u001b[0m\u001b[1;33m\u001b[0m\u001b[1;33m\u001b[0m\u001b[0m\n",
      "\u001b[1;32m<ipython-input-65-96aca8695c7b>\u001b[0m in \u001b[0;36mJ_grad_alpha\u001b[1;34m(Y, alpha)\u001b[0m\n\u001b[0;32m      2\u001b[0m     \u001b[0mp\u001b[0m \u001b[1;33m=\u001b[0m \u001b[0mnp\u001b[0m\u001b[1;33m.\u001b[0m\u001b[0mlinalg\u001b[0m\u001b[1;33m.\u001b[0m\u001b[0msolve\u001b[0m\u001b[1;33m(\u001b[0m\u001b[0mA\u001b[0m\u001b[1;33m.\u001b[0m\u001b[0mT\u001b[0m\u001b[1;33m,\u001b[0m \u001b[0mJ_grad_Y\u001b[0m\u001b[1;33m(\u001b[0m\u001b[0mY\u001b[0m\u001b[1;33m)\u001b[0m\u001b[1;33m)\u001b[0m\u001b[1;33m\u001b[0m\u001b[1;33m\u001b[0m\u001b[0m\n\u001b[0;32m      3\u001b[0m \u001b[1;33m\u001b[0m\u001b[0m\n\u001b[1;32m----> 4\u001b[1;33m     \u001b[1;32mreturn\u001b[0m \u001b[0mnp\u001b[0m\u001b[1;33m.\u001b[0m\u001b[0mdot\u001b[0m\u001b[1;33m(\u001b[0m\u001b[0mnp\u001b[0m\u001b[1;33m.\u001b[0m\u001b[0mdot\u001b[0m\u001b[1;33m(\u001b[0m\u001b[0mB\u001b[0m\u001b[1;33m,\u001b[0m \u001b[0mnp\u001b[0m\u001b[1;33m.\u001b[0m\u001b[0mdiag\u001b[0m\u001b[1;33m(\u001b[0m\u001b[0mx\u001b[0m\u001b[1;33m)\u001b[0m\u001b[1;33m)\u001b[0m\u001b[1;33m.\u001b[0m\u001b[0mT\u001b[0m\u001b[1;33m,\u001b[0m \u001b[0mp\u001b[0m\u001b[1;33m)\u001b[0m\u001b[1;33m\u001b[0m\u001b[1;33m\u001b[0m\u001b[0m\n\u001b[0m",
      "\u001b[1;32mD:\\Anaconda3\\lib\\site-packages\\numpy\\lib\\twodim_base.py\u001b[0m in \u001b[0;36mdiag\u001b[1;34m(v, k)\u001b[0m\n\u001b[0;32m    253\u001b[0m     \u001b[1;32mif\u001b[0m \u001b[0mlen\u001b[0m\u001b[1;33m(\u001b[0m\u001b[0ms\u001b[0m\u001b[1;33m)\u001b[0m \u001b[1;33m==\u001b[0m \u001b[1;36m1\u001b[0m\u001b[1;33m:\u001b[0m\u001b[1;33m\u001b[0m\u001b[1;33m\u001b[0m\u001b[0m\n\u001b[0;32m    254\u001b[0m         \u001b[0mn\u001b[0m \u001b[1;33m=\u001b[0m \u001b[0ms\u001b[0m\u001b[1;33m[\u001b[0m\u001b[1;36m0\u001b[0m\u001b[1;33m]\u001b[0m\u001b[1;33m+\u001b[0m\u001b[0mabs\u001b[0m\u001b[1;33m(\u001b[0m\u001b[0mk\u001b[0m\u001b[1;33m)\u001b[0m\u001b[1;33m\u001b[0m\u001b[1;33m\u001b[0m\u001b[0m\n\u001b[1;32m--> 255\u001b[1;33m         \u001b[0mres\u001b[0m \u001b[1;33m=\u001b[0m \u001b[0mzeros\u001b[0m\u001b[1;33m(\u001b[0m\u001b[1;33m(\u001b[0m\u001b[0mn\u001b[0m\u001b[1;33m,\u001b[0m \u001b[0mn\u001b[0m\u001b[1;33m)\u001b[0m\u001b[1;33m,\u001b[0m \u001b[0mv\u001b[0m\u001b[1;33m.\u001b[0m\u001b[0mdtype\u001b[0m\u001b[1;33m)\u001b[0m\u001b[1;33m\u001b[0m\u001b[1;33m\u001b[0m\u001b[0m\n\u001b[0m\u001b[0;32m    256\u001b[0m         \u001b[1;32mif\u001b[0m \u001b[0mk\u001b[0m \u001b[1;33m>=\u001b[0m \u001b[1;36m0\u001b[0m\u001b[1;33m:\u001b[0m\u001b[1;33m\u001b[0m\u001b[1;33m\u001b[0m\u001b[0m\n\u001b[0;32m    257\u001b[0m             \u001b[0mi\u001b[0m \u001b[1;33m=\u001b[0m \u001b[0mk\u001b[0m\u001b[1;33m\u001b[0m\u001b[1;33m\u001b[0m\u001b[0m\n",
      "\u001b[1;31mKeyboardInterrupt\u001b[0m: "
     ]
    }
   ],
   "source": [
    "iteration = 0\n",
    "Err= J(Y, F)\n",
    "loss = list()\n",
    "Y_list = list()\n",
    "Y_list.append(Y)\n",
    "start_time = time.time()\n",
    "\n",
    "for k in range(10000000):\n",
    "    loss.append(Err)\n",
    "    iteration += 1\n",
    "    alpha1 = alpha - step * J_grad_alpha(Y, alpha)\n",
    "    Y = pde_solver(alpha1)\n",
    "    Y_list.append(Y)\n",
    "\n",
    "    err = J(Y, F)\n",
    "    alpha = alpha1\n",
    "    if (abs(err-Err)/Err < 1e-7):\n",
    "        break\n",
    "    Err = err\n",
    "\n",
    "run_time = time.time() - start_time\n",
    "loss.append(Err)"
   ]
  },
  {
   "cell_type": "code",
   "execution_count": 69,
   "metadata": {},
   "outputs": [
    {
     "name": "stdout",
     "output_type": "stream",
     "text": [
      "alpha= [1.         1.53976332 2.06600992 2.57681396 3.07029665 3.54464941\n",
      " 3.9981553  4.42920892 4.83633441 5.21820146 5.57363932 5.90164854\n",
      " 6.20141062 6.47229525 6.71386533 6.92587972 7.1082937  7.26125722\n",
      " 7.3851111  7.48038113 7.54777036 7.58814956 7.60254615 7.5921317\n",
      " 7.55820819 7.50219322 7.42560447 7.33004342 7.21717878 7.08872965\n",
      " 6.9464487  6.79210552 6.62747045 6.45429884 6.27431621 6.08920411\n",
      " 5.90058715 5.71002106 5.51898202 5.32885729 5.14093717 4.95640843\n",
      " 4.77634905 4.60172451 4.43338533 4.2720661  4.11838576 3.97284914\n",
      " 3.83584962 3.70767299 3.58850213 3.47842265 3.37742929 3.28543291\n",
      " 3.20226803 3.12770077 3.06143702 3.00313086 2.95239291 2.90879875\n",
      " 2.87189706 2.84121758 2.81627869 2.79659454 2.78168173 2.77106533\n",
      " 2.76428437 2.76089647 2.76048188 2.76264654 2.76702435 2.77327842\n",
      " 2.78110127 2.79021392 2.80036362 2.8113202  2.82287071 2.8348122\n",
      " 2.84694222 2.85904669 2.87088462 2.88216893 2.89254279 2.90155026\n",
      " 2.90860007 2.91292105 2.91350739 2.90905125 2.89786009 2.87775525\n",
      " 2.84594745 2.79888434 2.73206359 2.63980419 2.51496656 2.34861036\n",
      " 2.1295764  1.84397606 1.47456833 1.        ]\n",
      "iteration= 3506414\n",
      "err 0.00309584982659933\n",
      "run time 185.81455659866333\n"
     ]
    }
   ],
   "source": [
    "print('alpha=', alpha)\n",
    "print('iteration=', iteration)\n",
    "print('err', err)\n",
    "print('run time', run_time)"
   ]
  },
  {
   "cell_type": "code",
   "execution_count": 81,
   "metadata": {},
   "outputs": [
    {
     "data": {
      "text/plain": [
       "Text(0, 0.5, 'J')"
      ]
     },
     "execution_count": 81,
     "metadata": {},
     "output_type": "execute_result"
    },
    {
     "data": {
      "image/png": "[encoded data removed]",
      "text/plain": [
       "<Figure size 432x288 with 1 Axes>"
      ]
     },
     "metadata": {
      "needs_background": "light"
     },
     "output_type": "display_data"
    }
   ],
   "source": [
    "plt.plot(loss)\n",
    "#plt.title('the value of J')\n",
    "plt.xlabel('iteration')\n",
    "plt.ylabel('J')"
   ]
  },
  {
   "cell_type": "code",
   "execution_count": 74,
   "metadata": {},
   "outputs": [],
   "source": [
    "Y_list = np.asarray(Y_list)"
   ]
  },
  {
   "cell_type": "code",
   "execution_count": null,
   "metadata": {},
   "outputs": [],
   "source": [
    "def init():  \n",
    "    line.set_data(list(x), list(Y_list[0,:]))  \n",
    "    return line,\n",
    "\n",
    "def animate(i):\n",
    "    y = Y_list[i,:]\n",
    "    line.set_data(list(x), list(y))\n",
    "    return line,"
   ]
  },
  {
   "cell_type": "code",
   "execution_count": null,
   "metadata": {},
   "outputs": [],
   "source": [
    "fig = plt.figure(figsize=(4,4))\n",
    "\n",
    "ax = fig.add_axes([0,0,1,1])\n",
    "ax.set_xlim([0, 1])\n",
    "ax.set_ylim([0, 7])\n",
    "line, = ax.plot([], [], lw=2)\n",
    "\n",
    "def init():  \n",
    "    line.set_data(list(x), list(Y_list[0,:]))  \n",
    "    return line,\n",
    "\n",
    "def animate(i):\n",
    "    y = Y_list[i,:]\n",
    "    line.set_data(list(x), list(y))\n",
    "    return line,\n",
    "\n",
    "anim1 = FuncAnimation(fig, animate, init_func=init, interval=200, frames = len(Y_list)+1, blit=False)\n",
    "plt.show()"
   ]
  },
  {
   "cell_type": "code",
   "execution_count": 75,
   "metadata": {},
   "outputs": [
    {
     "data": {
      "text/plain": [
       "(3506414, 100)"
      ]
     },
     "execution_count": 75,
     "metadata": {},
     "output_type": "execute_result"
    }
   ],
   "source": [
    "Y_list.shape"
   ]
  },
  {
   "cell_type": "code",
   "execution_count": null,
   "metadata": {},
   "outputs": [],
   "source": [
    "for i in 3506414"
   ]
  }
 ],
 "metadata": {
  "kernelspec": {
   "display_name": "Python 3",
   "language": "python",
   "name": "python3"
  },
  "language_info": {
   "codemirror_mode": {
    "name": "ipython",
    "version": 3
   },
   "file_extension": ".py",
   "mimetype": "text/x-python",
   "name": "python",
   "nbconvert_exporter": "python",
   "pygments_lexer": "ipython3",
   "version": "3.7.1"
  }
 },
 "nbformat": 4,
 "nbformat_minor": 2
}
