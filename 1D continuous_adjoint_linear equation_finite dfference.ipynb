{
 "cells": [
  {
   "cell_type": "code",
   "execution_count": 3,
   "metadata": {},
   "outputs": [],
   "source": [
    "import numpy as np\n",
    "import pandas as pd\n",
    "import matplotlib.pyplot as plt\n",
    "import time"
   ]
  },
  {
   "cell_type": "markdown",
   "metadata": {},
   "source": [
    "$x \\in (0,1)$. The Cauchy problem is:\n",
    "$$\\frac{dy}{dx}=\\alpha (x) x+y$$\n",
    "$$y(0)=1$$\n",
    "The objective function to minimize is:\n",
    "$$J(y,\\alpha)=\\int_{0}^{1} |y-(x+1)e^{x}|^2 dx$$\n",
    "$\\alpha(x)$ is the spatial function to determine.\n",
    "\n",
    "$y$ is called solution, $f(x) = (x+1)e^{x}$ is the function to generate the observation."
   ]
  },
  {
   "cell_type": "code",
   "execution_count": 8,
   "metadata": {},
   "outputs": [],
   "source": [
    "n = 100 ##number of intervals\n",
    "step = 0.01 ##step size for optimization\n",
    "max_iter = 10000000\n",
    "tolerance = 1e-6"
   ]
  },
  {
   "cell_type": "markdown",
   "metadata": {},
   "source": [
    "The discretized equation can be written into a linear system:\n",
    "$$AY = B(\\alpha*X)+C,$$\n",
    "where $A$ and $B$ are $n\\times n$ matrices, $Y$ is the soloution vector, $X$ is the discretized definition domain, $C$ is a constant vector. * is the Hadamard product. \n",
    "\n",
    "$$\n",
    "A = \n",
    "\\left[{\\begin{array}{cc}\n",
    "1 & 0 & ...& 0\\\\\n",
    "-(n+1) & n & ...& 0\\\\\n",
    "0 & (-n+1) & n & ...\\\\\n",
    ". & . & ...& .\\\\\n",
    "0 & ... & -(n+1) & n\\\\\n",
    "\\end{array}}\\right],\n",
    "\\qquad\n",
    "B = \n",
    "\\left[{\\begin{array}{cc}\n",
    "0 & 0 & ...& 0\\\\\n",
    "1 & 0 & ...& 0\\\\\n",
    "0 & 1 & ...& 0\\\\\n",
    ". & . & ...& .\\\\\n",
    "0 & ... & 1 & 0\\\\\n",
    "\\end{array}}\\right],\n",
    "\\quad\n",
    "C = \n",
    "\\left[{\\begin{array}{cc}\n",
    "1\\\\\n",
    "0\\\\\n",
    "0\\\\\n",
    ".\\\\\n",
    "0 \\\\\n",
    "\\end{array}}\\right],\n",
    "\\quad$$"
   ]
  },
  {
   "cell_type": "code",
   "execution_count": 13,
   "metadata": {},
   "outputs": [],
   "source": [
    "#write the values of A, B, C as well as x\n",
    "B = np.zeros((n, n))\n",
    "for i in range(1, n):\n",
    "    B[i, i-1] = 1.0\n",
    "    \n",
    "A = -(n+1) * B + n * np.identity(n)\n",
    "A[0,0] = 1.0\n",
    "\n",
    "C = np.zeros(n)\n",
    "C[0] = 1.0\n",
    "\n",
    "D = (1-n)*np.identity(n)\n",
    "for i in range(n-1):\n",
    "    D[i, i+1] = n\n",
    "\n",
    "x = np.asarray(range(n))/n\n",
    "\n",
    "F = (x + 1)*np.exp(x)#the observed data"
   ]
  },
  {
   "cell_type": "markdown",
   "metadata": {},
   "source": [
    "The lagrangian function is $L = J + \\int_{0}^{1} z(x)(\\frac{dy}{dx}-\\alpha (x) x-y) dx.$\n",
    "\n",
    "When $z(x)$ satisfies the adjoint equation below, the derivative $\\frac{dJ}{d\\alpha_i}=-z(x_i)x_i/n$, with $0\\leq i\\leq n-1 $"
   ]
  },
  {
   "cell_type": "markdown",
   "metadata": {},
   "source": [
    "$x \\in (0,1)$. The adjoint equation is:\n",
    "$$\\frac{dz}{dx}+z=2(y-f)$$\n",
    "$$z(1)=0$$\n",
    "The discretized equation can be written into a linear system:\n",
    "$$DZ = 2(Y-F),$$\n",
    "where $D$ is $n\\times n$ matrices, $F$ is the obeserved vector.\n",
    "$$\n",
    "D = \n",
    "\\left[{\\begin{array}{cc}\n",
    "1-n & n & ...& 0\\\\\n",
    "0 & 1-n & n...& 0\\\\\n",
    ". & . & ...& .\\\\\n",
    "0 & ... & 1-n & n\\\\\n",
    "0 & ... & &1-n\\\\\n",
    "\\end{array}}\\right],\n",
    "\\quad$$"
   ]
  },
  {
   "cell_type": "code",
   "execution_count": 10,
   "metadata": {},
   "outputs": [],
   "source": [
    "def J(Y, F):\n",
    "    h = (Y-F)**2\n",
    "    \n",
    "    return np.sum(h / n)"
   ]
  },
  {
   "cell_type": "code",
   "execution_count": 7,
   "metadata": {},
   "outputs": [],
   "source": [
    "def pde_solver(alpha):\n",
    "        \n",
    "    return np.linalg.solve(A, np.dot(B, alpha*x)+C)\n",
    "\n",
    "def pde_solver_ad(Y):\n",
    "        \n",
    "    return np.linalg.solve(D,2*(Y-F))"
   ]
  },
  {
   "cell_type": "code",
   "execution_count": 19,
   "metadata": {},
   "outputs": [],
   "source": [
    "#intialization\n",
    "alpha = np.ones(n)\n",
    "Y = pde_solver(alpha)\n",
    "\n",
    "#gradient descent\n",
    "iteration = 0\n",
    "Err= J(Y, F)\n",
    "loss = list()\n",
    "#Y_list = list()\n",
    "#Y_list.append(Y)\n",
    "start_time = time.time()\n",
    "\n",
    "for k in range(10000000):\n",
    "    loss.append(Err)\n",
    "    iteration += 1\n",
    "    Z = pde_solver_ad(Y)\n",
    "    J_grad_alpha = -Z*x/n\n",
    "    alpha1 = alpha - step * J_grad_alpha\n",
    "    Y = pde_solver(alpha1)\n",
    "    #Y_list.append(Y)\n",
    "\n",
    "    err = J(Y, F)\n",
    "    alpha = alpha1\n",
    "    if (abs(err-Err)/Err < tolerance):\n",
    "        break\n",
    "    Err = err\n",
    "\n",
    "run_time = time.time() - start_time\n",
    "loss.append(Err)"
   ]
  },
  {
   "cell_type": "code",
   "execution_count": 20,
   "metadata": {},
   "outputs": [
    {
     "data": {
      "text/plain": [
       "<matplotlib.legend.Legend at 0x1d3af963550>"
      ]
     },
     "execution_count": 20,
     "metadata": {},
     "output_type": "execute_result"
    },
    {
     "data": {
      "image/png": "[encoded data removed]",
      "text/plain": [
       "<Figure size 432x288 with 1 Axes>"
      ]
     },
     "metadata": {
      "needs_background": "light"
     },
     "output_type": "display_data"
    }
   ],
   "source": [
    "plt.subplot(1, 1, 1)\n",
    "plt.plot(x, Y, x, F)\n",
    "plt.xlabel('x')\n",
    "plt.ylabel('y')\n",
    "\n",
    "plt.gca().legend(('Solution','Observation'))"
   ]
  },
  {
   "cell_type": "code",
   "execution_count": 21,
   "metadata": {},
   "outputs": [
    {
     "data": {
      "text/plain": [
       "672379"
      ]
     },
     "execution_count": 21,
     "metadata": {},
     "output_type": "execute_result"
    }
   ],
   "source": [
    "iteration"
   ]
  },
  {
   "cell_type": "code",
   "execution_count": 22,
   "metadata": {},
   "outputs": [
    {
     "data": {
      "text/plain": [
       "0.010118219029526445"
      ]
     },
     "execution_count": 22,
     "metadata": {},
     "output_type": "execute_result"
    }
   ],
   "source": [
    "Err"
   ]
  },
  {
   "cell_type": "code",
   "execution_count": null,
   "metadata": {},
   "outputs": [],
   "source": []
  }
 ],
 "metadata": {
  "kernelspec": {
   "display_name": "Python 3",
   "language": "python",
   "name": "python3"
  },
  "language_info": {
   "codemirror_mode": {
    "name": "ipython",
    "version": 3
   },
   "file_extension": ".py",
   "mimetype": "text/x-python",
   "name": "python",
   "nbconvert_exporter": "python",
   "pygments_lexer": "ipython3",
   "version": "3.7.1"
  }
 },
 "nbformat": 4,
 "nbformat_minor": 2
}
